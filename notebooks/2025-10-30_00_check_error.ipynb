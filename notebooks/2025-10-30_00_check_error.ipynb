{
 "cells": [
  {
   "cell_type": "code",
   "execution_count": 1,
   "id": "92f9fbe0",
   "metadata": {},
   "outputs": [],
   "source": [
    "import numpy as np\n",
    "from PIL import Image\n",
    "import trimesh\n",
    "import pyrender"
   ]
  },
  {
   "cell_type": "code",
   "execution_count": 2,
   "id": "78d34f41",
   "metadata": {},
   "outputs": [],
   "source": [
    "correct_glb_p = \"/home/quanta/Downloads/5d81bcc38969431e9d18764e2c72d285.glb\"\n",
    "\n",
    "render_glb_1_p = '/home/quanta/Downloads/render_error/001af60e5741419cb7a5767e17c270b9.glb'\n",
    "render_glb_2_p = '/home/quanta/Downloads/render_error/09af633b3e2d4fd0add9918da29fa668.glb'\n",
    "\n",
    "\n",
    "points_glb_1_p = '/home/quanta/Downloads/points_error/4f7fb039a1ac4cd988f7b57bad26bdcf.glb'\n",
    "points_glb_2_p = '/home/quanta/Downloads/points_error/fc239e705c194ec580aa5231a0f32377.glb'"
   ]
  },
  {
   "cell_type": "code",
   "execution_count": 3,
   "id": "7c72e768",
   "metadata": {},
   "outputs": [
    {
     "name": "stderr",
     "output_type": "stream",
     "text": [
      "/home/quanta/.conda/envs/partcrafter/lib/python3.11/site-packages/tqdm/auto.py:21: TqdmWarning: IProgress not found. Please update jupyter and ipywidgets. See https://ipywidgets.readthedocs.io/en/stable/user_install.html\n",
      "  from .autonotebook import tqdm as notebook_tqdm\n"
     ]
    }
   ],
   "source": [
    "import os, sys\n",
    "sys.path.append(\"..\")\n",
    "\n",
    "from src.utils.data_utils import normalize_mesh"
   ]
  },
  {
   "cell_type": "code",
   "execution_count": 4,
   "id": "ba1fd959",
   "metadata": {},
   "outputs": [],
   "source": [
    "mesh = trimesh.load(render_glb_2_p)\n",
    "mesh = normalize_mesh(mesh).to_geometry()"
   ]
  },
  {
   "cell_type": "code",
   "execution_count": 5,
   "id": "9e08d51c",
   "metadata": {},
   "outputs": [],
   "source": [
    "ALLOWED_MODES = {\"L\", \"RGB\", \"RGBA\", \"F\"}\n",
    "\n",
    "def normalize_texture_pil(im: Image.Image):\n",
    "    if not isinstance(im, Image.Image):\n",
    "        return im\n",
    "    m = im.mode\n",
    "    if m in ALLOWED_MODES:\n",
    "        return im\n",
    "    if m == \"1\":  # 1bit -> 8bit 灰度\n",
    "        return im.convert(\"L\")\n",
    "    if m == \"P\":  # 调色板 -> RGBA\n",
    "        return im.convert(\"RGBA\")\n",
    "    if m == \"LA\":  # 灰度+alpha -> RGBA\n",
    "        return im.convert(\"RGBA\")\n",
    "    if m in {\"CMYK\", \"YCbCr\", \"HSV\"}:  # 这些已是 uint8，但通道不兼容 -> RGB\n",
    "        return im.convert(\"RGB\")\n",
    "    if m in {\"I;16\", \"I;16B\", \"I;16L\", \"I\"}:  # 16/32 位整型 -> 8bit 灰度\n",
    "        arr = np.array(im, dtype=np.uint32)\n",
    "        arr8 = (arr >> 8).astype(np.uint8)  # 不做拉伸，仅丢高 8 位\n",
    "        return Image.fromarray(arr8, mode=\"L\")\n",
    "    # 兜底\n",
    "    return im.convert(\"RGB\")\n",
    "\n",
    "\n",
    "def coerce_trimesh_textures_pil(tm):\n",
    "    vis = getattr(tm, \"visual\", None)\n",
    "    if vis is None:\n",
    "        return\n",
    "    mats = []\n",
    "    if getattr(vis, \"material\", None) is not None:\n",
    "        mats.append(vis.material)\n",
    "    if getattr(vis, \"materials\", None):\n",
    "        mats.extend(list(vis.materials))\n",
    "\n",
    "    fields = (\n",
    "        \"image\",  # SimpleMaterial\n",
    "        \"baseColorTexture\",\n",
    "        \"metallicRoughnessTexture\",\n",
    "        \"normalTexture\",\n",
    "        \"occlusionTexture\",\n",
    "        \"emissiveTexture\",\n",
    "        \"diffuseTexture\",\n",
    "        \"specularGlossinessTexture\",\n",
    "    )\n",
    "    for m in mats:\n",
    "        for f in fields:\n",
    "            if hasattr(m, f):\n",
    "                tex = getattr(m, f)\n",
    "                setattr(m, f, normalize_texture_pil(tex))"
   ]
  },
  {
   "cell_type": "code",
   "execution_count": 6,
   "id": "7a30f1ea",
   "metadata": {},
   "outputs": [
    {
     "data": {
      "text/plain": [
       "<pyrender.scene.Scene at 0x7179e2fdbe10>"
      ]
     },
     "execution_count": 6,
     "metadata": {},
     "output_type": "execute_result"
    }
   ],
   "source": [
    "pyrender.Scene.from_trimesh_scene(trimesh.Scene(coerce_trimesh_textures_pil(mesh)))"
   ]
  },
  {
   "cell_type": "code",
   "execution_count": 7,
   "id": "fdd5ac25",
   "metadata": {},
   "outputs": [],
   "source": [
    "# pyrender.Scene.from_trimesh_scene(trimesh.Scene(mesh))"
   ]
  },
  {
   "cell_type": "code",
   "execution_count": 8,
   "id": "6951bf50",
   "metadata": {},
   "outputs": [],
   "source": [
    "mesh = trimesh.load(points_glb_1_p, process=False)\n",
    "mesh = normalize_mesh(mesh)"
   ]
  },
  {
   "cell_type": "code",
   "execution_count": 9,
   "id": "8d0d58cd",
   "metadata": {},
   "outputs": [],
   "source": [
    "def filter_mesh(obj):\n",
    "    import trimesh\n",
    "    if isinstance(obj, trimesh.Trimesh):\n",
    "        return obj.copy()\n",
    "    if isinstance(obj, trimesh.Scene):\n",
    "        sc = trimesh.Scene()\n",
    "        for name, g in obj.geometry.items():\n",
    "            if isinstance(g, trimesh.Trimesh):\n",
    "                sc.add_geometry(g.copy(), node_name=name)\n",
    "        return sc\n",
    "    return trimesh.Scene()\n"
   ]
  },
  {
   "cell_type": "code",
   "execution_count": 10,
   "id": "ae98fafd",
   "metadata": {},
   "outputs": [
    {
     "data": {
      "text/plain": [
       "OrderedDict([('Object_0',\n",
       "              <trimesh.Trimesh(vertices.shape=(10326, 3), faces.shape=(19616, 3))>),\n",
       "             ('Object_1',\n",
       "              <trimesh.Trimesh(vertices.shape=(481, 3), faces.shape=(549, 3))>),\n",
       "             ('Object_2', <trimesh.PointCloud(vertices.shape=(1, 3))>),\n",
       "             ('Object_3',\n",
       "              <trimesh.Trimesh(vertices.shape=(51811, 3), faces.shape=(99956, 3))>)])"
      ]
     },
     "execution_count": 10,
     "metadata": {},
     "output_type": "execute_result"
    }
   ],
   "source": [
    "mesh.geometry"
   ]
  },
  {
   "cell_type": "code",
   "execution_count": 11,
   "id": "e12ea4e8",
   "metadata": {},
   "outputs": [
    {
     "data": {
      "text/plain": [
       "(OrderedDict([('geometry_0',\n",
       "               <trimesh.Trimesh(vertices.shape=(10326, 3), faces.shape=(19616, 3))>),\n",
       "              ('geometry_1',\n",
       "               <trimesh.Trimesh(vertices.shape=(481, 3), faces.shape=(549, 3))>),\n",
       "              ('geometry_2',\n",
       "               <trimesh.Trimesh(vertices.shape=(51811, 3), faces.shape=(99956, 3))>)]),\n",
       " OrderedDict([('Object_0',\n",
       "               <trimesh.Trimesh(vertices.shape=(10326, 3), faces.shape=(19616, 3))>),\n",
       "              ('Object_1',\n",
       "               <trimesh.Trimesh(vertices.shape=(481, 3), faces.shape=(549, 3))>),\n",
       "              ('Object_2', <trimesh.PointCloud(vertices.shape=(1, 3))>),\n",
       "              ('Object_3',\n",
       "               <trimesh.Trimesh(vertices.shape=(51811, 3), faces.shape=(99956, 3))>)]))"
      ]
     },
     "execution_count": 11,
     "metadata": {},
     "output_type": "execute_result"
    }
   ],
   "source": [
    "filter_mesh(mesh).geometry, mesh.geometry"
   ]
  },
  {
   "cell_type": "code",
   "execution_count": 12,
   "id": "b6e38fc6",
   "metadata": {},
   "outputs": [],
   "source": [
    "from src.utils.data_utils import scene_to_parts, mesh_to_surface, normalize_mesh"
   ]
  },
  {
   "cell_type": "code",
   "execution_count": 13,
   "id": "31815940",
   "metadata": {},
   "outputs": [
    {
     "data": {
      "text/plain": [
       "[{'surface_points': TrackedArray([[-1.00040272e+03, -3.77285787e-01, -3.10233215e+02],\n",
       "                [-1.25877906e+03,  7.84497425e+01, -5.64346531e+02],\n",
       "                [-1.35625991e+03, -7.16874190e+01, -1.79921706e+02],\n",
       "                ...,\n",
       "                [-1.09764060e+03,  1.91336005e+01, -3.11498011e+02],\n",
       "                [-1.49662780e+03,  8.64989612e+01, -2.84121054e+02],\n",
       "                [-1.55877873e+03,  1.17092021e+01, -3.53887548e+02]]),\n",
       "  'surface_normals': array([[ 0.6708733 , -0.60269129,  0.43207895],\n",
       "         [ 0.07963062,  0.98761243, -0.13520596],\n",
       "         [-0.38313995, -0.69707845,  0.60604077],\n",
       "         ...,\n",
       "         [-0.72697954, -0.33263551, -0.60071155],\n",
       "         [-0.55598125,  0.56689484, -0.60787753],\n",
       "         [ 0.75852426, -0.41799061, -0.4999248 ]])},\n",
       " {'surface_points': TrackedArray([[-1310.66391525,   -92.75666879,  -223.47672123],\n",
       "                [-1309.43851169,  -118.87162696,  -581.16022797],\n",
       "                [-1308.70075597,  -121.26718355,  -417.75882498],\n",
       "                ...,\n",
       "                [-1309.32960485,  -121.11635942,  -376.40203086],\n",
       "                [-1310.81196932,  -121.1883708 ,  -405.65157485],\n",
       "                [-1311.35916799,  -112.15006815,  -263.23784826]]),\n",
       "  'surface_normals': array([[-0.01566647, -0.90030323,  0.43498122],\n",
       "         [-0.00653052, -0.96600933,  0.25842469],\n",
       "         [-0.00350443, -0.99916628,  0.04067509],\n",
       "         ...,\n",
       "         [-0.02272434, -0.99628051,  0.08311884],\n",
       "         [-0.00956828, -0.9998568 , -0.01395775],\n",
       "         [-0.01280218, -0.89891833,  0.43792916]])},\n",
       " {'surface_points': TrackedArray([[-1370.06560494,  -104.70673743,  -707.26775994],\n",
       "                [-1212.77336195,   -76.3263427 ,  -600.96905696],\n",
       "                [-1386.0208645 ,    97.39242778,  -726.65617734],\n",
       "                ...,\n",
       "                [-1169.18648892,    -6.21853949,  -601.56177122],\n",
       "                [-1461.19890248,    43.23360848,  -791.00040448],\n",
       "                [-1166.1734128 ,  -109.35794024,  -977.42012078]]),\n",
       "  'surface_normals': array([[-0.20209821, -0.97762415,  0.05837242],\n",
       "         [ 0.52533913, -0.82527617,  0.20721497],\n",
       "         [-0.26924005,  0.96284282,  0.02105966],\n",
       "         ...,\n",
       "         [ 0.9542315 ,  0.10500342,  0.28002951],\n",
       "         [ 0.73150201, -0.68090877, -0.03560984],\n",
       "         [-0.23236674,  0.97010902,  0.06995852]])}]"
      ]
     },
     "execution_count": 13,
     "metadata": {},
     "output_type": "execute_result"
    }
   ],
   "source": [
    "scene_to_parts(filter_mesh(mesh), return_type=\"point\", normalize=False)"
   ]
  },
  {
   "cell_type": "code",
   "execution_count": null,
   "id": "849eab07",
   "metadata": {},
   "outputs": [],
   "source": []
  }
 ],
 "metadata": {
  "kernelspec": {
   "display_name": "partcrafter",
   "language": "python",
   "name": "python3"
  },
  "language_info": {
   "codemirror_mode": {
    "name": "ipython",
    "version": 3
   },
   "file_extension": ".py",
   "mimetype": "text/x-python",
   "name": "python",
   "nbconvert_exporter": "python",
   "pygments_lexer": "ipython3",
   "version": "3.11.6"
  }
 },
 "nbformat": 4,
 "nbformat_minor": 5
}

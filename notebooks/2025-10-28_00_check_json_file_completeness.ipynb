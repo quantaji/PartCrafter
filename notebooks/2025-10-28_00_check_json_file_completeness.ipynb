{
 "cells": [
  {
   "cell_type": "code",
   "execution_count": 1,
   "id": "ebde7c99",
   "metadata": {},
   "outputs": [],
   "source": [
    "import json"
   ]
  },
  {
   "cell_type": "code",
   "execution_count": 2,
   "id": "918b529e",
   "metadata": {},
   "outputs": [],
   "source": [
    "obj_json_pth = \"/home/quanta/Downloads/obj_rest_names_10.json\"\n",
    "pvs_json_pth = \"/home/quanta/Downloads/pvs_rest_names_10.json\""
   ]
  },
  {
   "cell_type": "code",
   "execution_count": 3,
   "id": "8c6d4937",
   "metadata": {},
   "outputs": [],
   "source": [
    "with open(obj_json_pth) as f:\n",
    "    obj_list = json.load(f)\n",
    "\n",
    "with open(pvs_json_pth) as f:\n",
    "    pvs_list = json.load(f)"
   ]
  },
  {
   "cell_type": "code",
   "execution_count": 4,
   "id": "07c66300",
   "metadata": {},
   "outputs": [
    {
     "data": {
      "text/plain": [
       "(22639, 9086)"
      ]
     },
     "execution_count": 4,
     "metadata": {},
     "output_type": "execute_result"
    }
   ],
   "source": [
    "len(obj_list), len(pvs_list)"
   ]
  },
  {
   "cell_type": "code",
   "execution_count": 5,
   "id": "48f9b757",
   "metadata": {},
   "outputs": [],
   "source": [
    "# in the flatten obj folder there are 68205\n",
    "# in the textured_part_glbs 12031\n",
    "\n",
    "obj_set = set([ s.split(\".\")[0] for s in obj_list if (isinstance(s,str) and s[-4:]==\".glb\")])\n",
    "pvs_set = set(pvs_list)"
   ]
  },
  {
   "cell_type": "code",
   "execution_count": 6,
   "id": "37c1d082",
   "metadata": {},
   "outputs": [
    {
     "data": {
      "text/plain": [
       "(22639, 9086)"
      ]
     },
     "execution_count": 6,
     "metadata": {},
     "output_type": "execute_result"
    }
   ],
   "source": [
    "len(obj_set), len(pvs_set)"
   ]
  },
  {
   "cell_type": "code",
   "execution_count": 7,
   "id": "b6d82f9e",
   "metadata": {},
   "outputs": [
    {
     "data": {
      "text/plain": [
       "(849, 30876)"
      ]
     },
     "execution_count": 7,
     "metadata": {},
     "output_type": "execute_result"
    }
   ],
   "source": [
    "len(obj_set & pvs_set), len(obj_set | pvs_set)"
   ]
  },
  {
   "cell_type": "code",
   "execution_count": 8,
   "id": "6c5b7a4a",
   "metadata": {},
   "outputs": [],
   "source": [
    "flatten_pth = \"/home/quanta/Downloads/flatten.json\"\n",
    "with open(flatten_pth) as f:\n",
    "    flatten_json = json.load(f)\n",
    "\n",
    "part_pth = \"/home/quanta/Downloads/parts.json\"\n",
    "with open(part_pth) as f:\n",
    "    part_json = json.load(f)"
   ]
  },
  {
   "cell_type": "code",
   "execution_count": 9,
   "id": "651fa6d1",
   "metadata": {},
   "outputs": [],
   "source": [
    "flatten_set = set([i[\"name\"].split(\".\")[0] for i in flatten_json['children'] if i['type'] == \"file\"])\n",
    "part_set = set(part_json)"
   ]
  },
  {
   "cell_type": "code",
   "execution_count": 10,
   "id": "3b41dea4",
   "metadata": {},
   "outputs": [
    {
     "data": {
      "text/plain": [
       "(12030, 68204)"
      ]
     },
     "execution_count": 10,
     "metadata": {},
     "output_type": "execute_result"
    }
   ],
   "source": [
    "len(part_set), len(flatten_set)"
   ]
  },
  {
   "cell_type": "code",
   "execution_count": 11,
   "id": "379540d9",
   "metadata": {},
   "outputs": [
    {
     "data": {
      "text/plain": [
       "2583"
      ]
     },
     "execution_count": 11,
     "metadata": {},
     "output_type": "execute_result"
    }
   ],
   "source": [
    "len(part_set & flatten_set)"
   ]
  },
  {
   "cell_type": "code",
   "execution_count": 12,
   "id": "153153b6",
   "metadata": {},
   "outputs": [
    {
     "data": {
      "text/plain": [
       "(1017, 22639)"
      ]
     },
     "execution_count": 12,
     "metadata": {},
     "output_type": "execute_result"
    }
   ],
   "source": [
    "len(obj_set & part_set), len(obj_set & flatten_set)"
   ]
  },
  {
   "cell_type": "code",
   "execution_count": 13,
   "id": "3912898e",
   "metadata": {},
   "outputs": [
    {
     "data": {
      "text/plain": [
       "(9086, 2009)"
      ]
     },
     "execution_count": 13,
     "metadata": {},
     "output_type": "execute_result"
    }
   ],
   "source": [
    "len(pvs_set & part_set), len(pvs_set & flatten_set)"
   ]
  },
  {
   "cell_type": "code",
   "execution_count": 14,
   "id": "c0ece7a3",
   "metadata": {},
   "outputs": [],
   "source": [
    "with open(\"./objaverse_selected.json\", \"w\") as f:\n",
    "    json.dump(sorted(list(obj_set)), f)\n",
    "\n",
    "with open(\"./partverse_selected.json\", \"w\") as f:\n",
    "    json.dump(sorted(list(pvs_set)), f)"
   ]
  },
  {
   "cell_type": "code",
   "execution_count": null,
   "id": "85243702",
   "metadata": {},
   "outputs": [],
   "source": []
  }
 ],
 "metadata": {
  "kernelspec": {
   "display_name": "partcrafter",
   "language": "python",
   "name": "python3"
  },
  "language_info": {
   "codemirror_mode": {
    "name": "ipython",
    "version": 3
   },
   "file_extension": ".py",
   "mimetype": "text/x-python",
   "name": "python",
   "nbconvert_exporter": "python",
   "pygments_lexer": "ipython3",
   "version": "3.11.6"
  }
 },
 "nbformat": 4,
 "nbformat_minor": 5
}

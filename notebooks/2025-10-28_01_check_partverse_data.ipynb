{
 "cells": [
  {
   "cell_type": "code",
   "execution_count": 1,
   "id": "1aa1d65c",
   "metadata": {},
   "outputs": [],
   "source": [
    "import trimesh"
   ]
  },
  {
   "cell_type": "code",
   "execution_count": 2,
   "id": "bfd4f246",
   "metadata": {},
   "outputs": [],
   "source": [
    "glb_pth = \"/home/quanta/Downloads/part-level-example/0.glb\""
   ]
  },
  {
   "cell_type": "code",
   "execution_count": 11,
   "id": "aef58746",
   "metadata": {},
   "outputs": [],
   "source": [
    "mesh = trimesh.load(glb_pth)"
   ]
  },
  {
   "cell_type": "code",
   "execution_count": 12,
   "id": "b0630f28",
   "metadata": {},
   "outputs": [
    {
     "data": {
      "text/plain": [
       "<trimesh.Scene(len(geometry)=1)>"
      ]
     },
     "execution_count": 12,
     "metadata": {},
     "output_type": "execute_result"
    }
   ],
   "source": [
    "mesh"
   ]
  },
  {
   "cell_type": "code",
   "execution_count": 5,
   "id": "8f5927c8",
   "metadata": {},
   "outputs": [],
   "source": [
    "glb_pth_2 = \"/home/quanta/Downloads/5d81bcc38969431e9d18764e2c72d285.glb\""
   ]
  },
  {
   "cell_type": "code",
   "execution_count": 9,
   "id": "1f3da452",
   "metadata": {},
   "outputs": [],
   "source": [
    "mesh_2 = trimesh.load(glb_pth_2)"
   ]
  },
  {
   "cell_type": "code",
   "execution_count": 13,
   "id": "b64abeea",
   "metadata": {},
   "outputs": [
    {
     "data": {
      "text/plain": [
       "<trimesh.Scene(len(geometry)=11)>"
      ]
     },
     "execution_count": 13,
     "metadata": {},
     "output_type": "execute_result"
    }
   ],
   "source": [
    "mesh_2"
   ]
  },
  {
   "cell_type": "code",
   "execution_count": null,
   "id": "2797112e",
   "metadata": {},
   "outputs": [],
   "source": []
  }
 ],
 "metadata": {
  "kernelspec": {
   "display_name": "partcrafter",
   "language": "python",
   "name": "python3"
  },
  "language_info": {
   "codemirror_mode": {
    "name": "ipython",
    "version": 3
   },
   "file_extension": ".py",
   "mimetype": "text/x-python",
   "name": "python",
   "nbconvert_exporter": "python",
   "pygments_lexer": "ipython3",
   "version": "3.11.6"
  }
 },
 "nbformat": 4,
 "nbformat_minor": 5
}
